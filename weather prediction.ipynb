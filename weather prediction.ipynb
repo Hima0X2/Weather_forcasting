{
 "cells": [
  {
   "cell_type": "code",
   "execution_count": 373,
   "id": "8af4751d",
   "metadata": {},
   "outputs": [],
   "source": [
    "import pandas as pd\n",
    "import numpy as np\n",
    "import matplotlib.pyplot as plt\n",
    "import seaborn as sea\n",
    "from sklearn.model_selection import train_test_split\n",
    "from sklearn.linear_model import LinearRegression"
   ]
  },
  {
   "cell_type": "code",
   "execution_count": 374,
   "id": "ce121034",
   "metadata": {
    "scrolled": false
   },
   "outputs": [
    {
     "data": {
      "text/html": [
       "<div>\n",
       "<style scoped>\n",
       "    .dataframe tbody tr th:only-of-type {\n",
       "        vertical-align: middle;\n",
       "    }\n",
       "\n",
       "    .dataframe tbody tr th {\n",
       "        vertical-align: top;\n",
       "    }\n",
       "\n",
       "    .dataframe thead th {\n",
       "        text-align: right;\n",
       "    }\n",
       "</style>\n",
       "<table border=\"1\" class=\"dataframe\">\n",
       "  <thead>\n",
       "    <tr style=\"text-align: right;\">\n",
       "      <th></th>\n",
       "      <th>date</th>\n",
       "      <th>precipitation</th>\n",
       "      <th>temp_max</th>\n",
       "      <th>temp_min</th>\n",
       "      <th>wind</th>\n",
       "      <th>weather</th>\n",
       "    </tr>\n",
       "  </thead>\n",
       "  <tbody>\n",
       "    <tr>\n",
       "      <th>0</th>\n",
       "      <td>01/01/2012</td>\n",
       "      <td>0.0</td>\n",
       "      <td>12.8</td>\n",
       "      <td>5.0</td>\n",
       "      <td>4.7</td>\n",
       "      <td>drizzle</td>\n",
       "    </tr>\n",
       "    <tr>\n",
       "      <th>1</th>\n",
       "      <td>01/02/2012</td>\n",
       "      <td>10.9</td>\n",
       "      <td>10.6</td>\n",
       "      <td>2.8</td>\n",
       "      <td>4.5</td>\n",
       "      <td>rain</td>\n",
       "    </tr>\n",
       "    <tr>\n",
       "      <th>2</th>\n",
       "      <td>01/03/2012</td>\n",
       "      <td>0.8</td>\n",
       "      <td>11.7</td>\n",
       "      <td>7.2</td>\n",
       "      <td>2.3</td>\n",
       "      <td>rain</td>\n",
       "    </tr>\n",
       "    <tr>\n",
       "      <th>3</th>\n",
       "      <td>01/04/2012</td>\n",
       "      <td>20.3</td>\n",
       "      <td>12.2</td>\n",
       "      <td>5.6</td>\n",
       "      <td>4.7</td>\n",
       "      <td>rain</td>\n",
       "    </tr>\n",
       "    <tr>\n",
       "      <th>4</th>\n",
       "      <td>01/05/2012</td>\n",
       "      <td>1.3</td>\n",
       "      <td>8.9</td>\n",
       "      <td>2.8</td>\n",
       "      <td>6.1</td>\n",
       "      <td>rain</td>\n",
       "    </tr>\n",
       "    <tr>\n",
       "      <th>...</th>\n",
       "      <td>...</td>\n",
       "      <td>...</td>\n",
       "      <td>...</td>\n",
       "      <td>...</td>\n",
       "      <td>...</td>\n",
       "      <td>...</td>\n",
       "    </tr>\n",
       "    <tr>\n",
       "      <th>1456</th>\n",
       "      <td>12/27/2015</td>\n",
       "      <td>8.6</td>\n",
       "      <td>4.4</td>\n",
       "      <td>1.7</td>\n",
       "      <td>2.9</td>\n",
       "      <td>rain</td>\n",
       "    </tr>\n",
       "    <tr>\n",
       "      <th>1457</th>\n",
       "      <td>12/28/2015</td>\n",
       "      <td>1.5</td>\n",
       "      <td>5.0</td>\n",
       "      <td>1.7</td>\n",
       "      <td>1.3</td>\n",
       "      <td>rain</td>\n",
       "    </tr>\n",
       "    <tr>\n",
       "      <th>1458</th>\n",
       "      <td>12/29/2015</td>\n",
       "      <td>0.0</td>\n",
       "      <td>7.2</td>\n",
       "      <td>0.6</td>\n",
       "      <td>2.6</td>\n",
       "      <td>fog</td>\n",
       "    </tr>\n",
       "    <tr>\n",
       "      <th>1459</th>\n",
       "      <td>12/30/2015</td>\n",
       "      <td>0.0</td>\n",
       "      <td>5.6</td>\n",
       "      <td>-1.0</td>\n",
       "      <td>3.4</td>\n",
       "      <td>sun</td>\n",
       "    </tr>\n",
       "    <tr>\n",
       "      <th>1460</th>\n",
       "      <td>12/31/2015</td>\n",
       "      <td>0.0</td>\n",
       "      <td>5.6</td>\n",
       "      <td>-2.1</td>\n",
       "      <td>3.5</td>\n",
       "      <td>sun</td>\n",
       "    </tr>\n",
       "  </tbody>\n",
       "</table>\n",
       "<p>1461 rows × 6 columns</p>\n",
       "</div>"
      ],
      "text/plain": [
       "            date  precipitation  temp_max  temp_min  wind  weather\n",
       "0     01/01/2012            0.0      12.8       5.0   4.7  drizzle\n",
       "1     01/02/2012           10.9      10.6       2.8   4.5     rain\n",
       "2     01/03/2012            0.8      11.7       7.2   2.3     rain\n",
       "3     01/04/2012           20.3      12.2       5.6   4.7     rain\n",
       "4     01/05/2012            1.3       8.9       2.8   6.1     rain\n",
       "...          ...            ...       ...       ...   ...      ...\n",
       "1456  12/27/2015            8.6       4.4       1.7   2.9     rain\n",
       "1457  12/28/2015            1.5       5.0       1.7   1.3     rain\n",
       "1458  12/29/2015            0.0       7.2       0.6   2.6      fog\n",
       "1459  12/30/2015            0.0       5.6      -1.0   3.4      sun\n",
       "1460  12/31/2015            0.0       5.6      -2.1   3.5      sun\n",
       "\n",
       "[1461 rows x 6 columns]"
      ]
     },
     "execution_count": 374,
     "metadata": {},
     "output_type": "execute_result"
    }
   ],
   "source": [
    "df=pd.read_csv(\"seattle-weather.csv\")\n",
    "df"
   ]
  },
  {
   "cell_type": "code",
   "execution_count": 375,
   "id": "54bfc472",
   "metadata": {},
   "outputs": [
    {
     "data": {
      "text/plain": [
       "(1461, 6)"
      ]
     },
     "execution_count": 375,
     "metadata": {},
     "output_type": "execute_result"
    }
   ],
   "source": [
    "df.shape"
   ]
  },
  {
   "cell_type": "code",
   "execution_count": 376,
   "id": "cf4042bd",
   "metadata": {},
   "outputs": [
    {
     "data": {
      "text/plain": [
       "date             0\n",
       "precipitation    0\n",
       "temp_max         0\n",
       "temp_min         0\n",
       "wind             0\n",
       "weather          0\n",
       "dtype: int64"
      ]
     },
     "execution_count": 376,
     "metadata": {},
     "output_type": "execute_result"
    }
   ],
   "source": [
    "df.isnull().sum()"
   ]
  },
  {
   "cell_type": "code",
   "execution_count": 377,
   "id": "2b61b72e",
   "metadata": {},
   "outputs": [
    {
     "data": {
      "text/plain": [
       "rain       641\n",
       "sun        640\n",
       "fog        101\n",
       "drizzle     53\n",
       "snow        26\n",
       "Name: weather, dtype: int64"
      ]
     },
     "execution_count": 377,
     "metadata": {},
     "output_type": "execute_result"
    }
   ],
   "source": [
    "df[\"weather\"].value_counts()"
   ]
  },
  {
   "cell_type": "code",
   "execution_count": 378,
   "id": "c2e98c13",
   "metadata": {},
   "outputs": [
    {
     "data": {
      "text/html": [
       "<div>\n",
       "<style scoped>\n",
       "    .dataframe tbody tr th:only-of-type {\n",
       "        vertical-align: middle;\n",
       "    }\n",
       "\n",
       "    .dataframe tbody tr th {\n",
       "        vertical-align: top;\n",
       "    }\n",
       "\n",
       "    .dataframe thead th {\n",
       "        text-align: right;\n",
       "    }\n",
       "</style>\n",
       "<table border=\"1\" class=\"dataframe\">\n",
       "  <thead>\n",
       "    <tr style=\"text-align: right;\">\n",
       "      <th></th>\n",
       "      <th>date</th>\n",
       "      <th>precipitation</th>\n",
       "      <th>temp_max</th>\n",
       "      <th>temp_min</th>\n",
       "      <th>wind</th>\n",
       "    </tr>\n",
       "  </thead>\n",
       "  <tbody>\n",
       "    <tr>\n",
       "      <th>0</th>\n",
       "      <td>01/01/2012</td>\n",
       "      <td>0.0</td>\n",
       "      <td>12.8</td>\n",
       "      <td>5.0</td>\n",
       "      <td>4.7</td>\n",
       "    </tr>\n",
       "    <tr>\n",
       "      <th>1</th>\n",
       "      <td>01/02/2012</td>\n",
       "      <td>10.9</td>\n",
       "      <td>10.6</td>\n",
       "      <td>2.8</td>\n",
       "      <td>4.5</td>\n",
       "    </tr>\n",
       "    <tr>\n",
       "      <th>2</th>\n",
       "      <td>01/03/2012</td>\n",
       "      <td>0.8</td>\n",
       "      <td>11.7</td>\n",
       "      <td>7.2</td>\n",
       "      <td>2.3</td>\n",
       "    </tr>\n",
       "    <tr>\n",
       "      <th>3</th>\n",
       "      <td>01/04/2012</td>\n",
       "      <td>20.3</td>\n",
       "      <td>12.2</td>\n",
       "      <td>5.6</td>\n",
       "      <td>4.7</td>\n",
       "    </tr>\n",
       "    <tr>\n",
       "      <th>4</th>\n",
       "      <td>01/05/2012</td>\n",
       "      <td>1.3</td>\n",
       "      <td>8.9</td>\n",
       "      <td>2.8</td>\n",
       "      <td>6.1</td>\n",
       "    </tr>\n",
       "    <tr>\n",
       "      <th>...</th>\n",
       "      <td>...</td>\n",
       "      <td>...</td>\n",
       "      <td>...</td>\n",
       "      <td>...</td>\n",
       "      <td>...</td>\n",
       "    </tr>\n",
       "    <tr>\n",
       "      <th>1456</th>\n",
       "      <td>12/27/2015</td>\n",
       "      <td>8.6</td>\n",
       "      <td>4.4</td>\n",
       "      <td>1.7</td>\n",
       "      <td>2.9</td>\n",
       "    </tr>\n",
       "    <tr>\n",
       "      <th>1457</th>\n",
       "      <td>12/28/2015</td>\n",
       "      <td>1.5</td>\n",
       "      <td>5.0</td>\n",
       "      <td>1.7</td>\n",
       "      <td>1.3</td>\n",
       "    </tr>\n",
       "    <tr>\n",
       "      <th>1458</th>\n",
       "      <td>12/29/2015</td>\n",
       "      <td>0.0</td>\n",
       "      <td>7.2</td>\n",
       "      <td>0.6</td>\n",
       "      <td>2.6</td>\n",
       "    </tr>\n",
       "    <tr>\n",
       "      <th>1459</th>\n",
       "      <td>12/30/2015</td>\n",
       "      <td>0.0</td>\n",
       "      <td>5.6</td>\n",
       "      <td>-1.0</td>\n",
       "      <td>3.4</td>\n",
       "    </tr>\n",
       "    <tr>\n",
       "      <th>1460</th>\n",
       "      <td>12/31/2015</td>\n",
       "      <td>0.0</td>\n",
       "      <td>5.6</td>\n",
       "      <td>-2.1</td>\n",
       "      <td>3.5</td>\n",
       "    </tr>\n",
       "  </tbody>\n",
       "</table>\n",
       "<p>1461 rows × 5 columns</p>\n",
       "</div>"
      ],
      "text/plain": [
       "            date  precipitation  temp_max  temp_min  wind\n",
       "0     01/01/2012            0.0      12.8       5.0   4.7\n",
       "1     01/02/2012           10.9      10.6       2.8   4.5\n",
       "2     01/03/2012            0.8      11.7       7.2   2.3\n",
       "3     01/04/2012           20.3      12.2       5.6   4.7\n",
       "4     01/05/2012            1.3       8.9       2.8   6.1\n",
       "...          ...            ...       ...       ...   ...\n",
       "1456  12/27/2015            8.6       4.4       1.7   2.9\n",
       "1457  12/28/2015            1.5       5.0       1.7   1.3\n",
       "1458  12/29/2015            0.0       7.2       0.6   2.6\n",
       "1459  12/30/2015            0.0       5.6      -1.0   3.4\n",
       "1460  12/31/2015            0.0       5.6      -2.1   3.5\n",
       "\n",
       "[1461 rows x 5 columns]"
      ]
     },
     "execution_count": 378,
     "metadata": {},
     "output_type": "execute_result"
    }
   ],
   "source": [
    "x=df.iloc[:,:-1]\n",
    "x"
   ]
  },
  {
   "cell_type": "code",
   "execution_count": 379,
   "id": "0105b81c",
   "metadata": {},
   "outputs": [
    {
     "data": {
      "text/html": [
       "<div>\n",
       "<style scoped>\n",
       "    .dataframe tbody tr th:only-of-type {\n",
       "        vertical-align: middle;\n",
       "    }\n",
       "\n",
       "    .dataframe tbody tr th {\n",
       "        vertical-align: top;\n",
       "    }\n",
       "\n",
       "    .dataframe thead th {\n",
       "        text-align: right;\n",
       "    }\n",
       "</style>\n",
       "<table border=\"1\" class=\"dataframe\">\n",
       "  <thead>\n",
       "    <tr style=\"text-align: right;\">\n",
       "      <th></th>\n",
       "      <th>precipitation</th>\n",
       "      <th>temp_max</th>\n",
       "      <th>temp_min</th>\n",
       "      <th>wind</th>\n",
       "      <th>year</th>\n",
       "      <th>month</th>\n",
       "      <th>day</th>\n",
       "    </tr>\n",
       "  </thead>\n",
       "  <tbody>\n",
       "    <tr>\n",
       "      <th>0</th>\n",
       "      <td>0.0</td>\n",
       "      <td>12.8</td>\n",
       "      <td>5.0</td>\n",
       "      <td>4.7</td>\n",
       "      <td>2012</td>\n",
       "      <td>1</td>\n",
       "      <td>1</td>\n",
       "    </tr>\n",
       "    <tr>\n",
       "      <th>1</th>\n",
       "      <td>10.9</td>\n",
       "      <td>10.6</td>\n",
       "      <td>2.8</td>\n",
       "      <td>4.5</td>\n",
       "      <td>2012</td>\n",
       "      <td>1</td>\n",
       "      <td>2</td>\n",
       "    </tr>\n",
       "    <tr>\n",
       "      <th>2</th>\n",
       "      <td>0.8</td>\n",
       "      <td>11.7</td>\n",
       "      <td>7.2</td>\n",
       "      <td>2.3</td>\n",
       "      <td>2012</td>\n",
       "      <td>1</td>\n",
       "      <td>3</td>\n",
       "    </tr>\n",
       "    <tr>\n",
       "      <th>3</th>\n",
       "      <td>20.3</td>\n",
       "      <td>12.2</td>\n",
       "      <td>5.6</td>\n",
       "      <td>4.7</td>\n",
       "      <td>2012</td>\n",
       "      <td>1</td>\n",
       "      <td>4</td>\n",
       "    </tr>\n",
       "    <tr>\n",
       "      <th>4</th>\n",
       "      <td>1.3</td>\n",
       "      <td>8.9</td>\n",
       "      <td>2.8</td>\n",
       "      <td>6.1</td>\n",
       "      <td>2012</td>\n",
       "      <td>1</td>\n",
       "      <td>5</td>\n",
       "    </tr>\n",
       "    <tr>\n",
       "      <th>...</th>\n",
       "      <td>...</td>\n",
       "      <td>...</td>\n",
       "      <td>...</td>\n",
       "      <td>...</td>\n",
       "      <td>...</td>\n",
       "      <td>...</td>\n",
       "      <td>...</td>\n",
       "    </tr>\n",
       "    <tr>\n",
       "      <th>1456</th>\n",
       "      <td>8.6</td>\n",
       "      <td>4.4</td>\n",
       "      <td>1.7</td>\n",
       "      <td>2.9</td>\n",
       "      <td>2015</td>\n",
       "      <td>12</td>\n",
       "      <td>27</td>\n",
       "    </tr>\n",
       "    <tr>\n",
       "      <th>1457</th>\n",
       "      <td>1.5</td>\n",
       "      <td>5.0</td>\n",
       "      <td>1.7</td>\n",
       "      <td>1.3</td>\n",
       "      <td>2015</td>\n",
       "      <td>12</td>\n",
       "      <td>28</td>\n",
       "    </tr>\n",
       "    <tr>\n",
       "      <th>1458</th>\n",
       "      <td>0.0</td>\n",
       "      <td>7.2</td>\n",
       "      <td>0.6</td>\n",
       "      <td>2.6</td>\n",
       "      <td>2015</td>\n",
       "      <td>12</td>\n",
       "      <td>29</td>\n",
       "    </tr>\n",
       "    <tr>\n",
       "      <th>1459</th>\n",
       "      <td>0.0</td>\n",
       "      <td>5.6</td>\n",
       "      <td>-1.0</td>\n",
       "      <td>3.4</td>\n",
       "      <td>2015</td>\n",
       "      <td>12</td>\n",
       "      <td>30</td>\n",
       "    </tr>\n",
       "    <tr>\n",
       "      <th>1460</th>\n",
       "      <td>0.0</td>\n",
       "      <td>5.6</td>\n",
       "      <td>-2.1</td>\n",
       "      <td>3.5</td>\n",
       "      <td>2015</td>\n",
       "      <td>12</td>\n",
       "      <td>31</td>\n",
       "    </tr>\n",
       "  </tbody>\n",
       "</table>\n",
       "<p>1461 rows × 7 columns</p>\n",
       "</div>"
      ],
      "text/plain": [
       "      precipitation  temp_max  temp_min  wind  year  month  day\n",
       "0               0.0      12.8       5.0   4.7  2012      1    1\n",
       "1              10.9      10.6       2.8   4.5  2012      1    2\n",
       "2               0.8      11.7       7.2   2.3  2012      1    3\n",
       "3              20.3      12.2       5.6   4.7  2012      1    4\n",
       "4               1.3       8.9       2.8   6.1  2012      1    5\n",
       "...             ...       ...       ...   ...   ...    ...  ...\n",
       "1456            8.6       4.4       1.7   2.9  2015     12   27\n",
       "1457            1.5       5.0       1.7   1.3  2015     12   28\n",
       "1458            0.0       7.2       0.6   2.6  2015     12   29\n",
       "1459            0.0       5.6      -1.0   3.4  2015     12   30\n",
       "1460            0.0       5.6      -2.1   3.5  2015     12   31\n",
       "\n",
       "[1461 rows x 7 columns]"
      ]
     },
     "execution_count": 379,
     "metadata": {},
     "output_type": "execute_result"
    }
   ],
   "source": [
    "x['date'] = pd.to_datetime(x['date'])\n",
    "x['year'] = x['date'].dt.year\n",
    "x['month'] = x['date'].dt.month\n",
    "x['day'] = x['date'].dt.day\n",
    "x.drop('date', axis=1, inplace=True)\n",
    "x"
   ]
  },
  {
   "cell_type": "code",
   "execution_count": 380,
   "id": "327def48",
   "metadata": {
    "scrolled": true
   },
   "outputs": [
    {
     "data": {
      "text/plain": [
       "0       drizzle\n",
       "1          rain\n",
       "2          rain\n",
       "3          rain\n",
       "4          rain\n",
       "         ...   \n",
       "1456       rain\n",
       "1457       rain\n",
       "1458        fog\n",
       "1459        sun\n",
       "1460        sun\n",
       "Name: weather, Length: 1461, dtype: object"
      ]
     },
     "execution_count": 380,
     "metadata": {},
     "output_type": "execute_result"
    }
   ],
   "source": [
    "y=df.iloc[:,-1]\n",
    "y"
   ]
  },
  {
   "cell_type": "code",
   "execution_count": 381,
   "id": "7cc9c927",
   "metadata": {},
   "outputs": [],
   "source": [
    "# from sklearn.preprocessing import LabelEncoder"
   ]
  },
  {
   "cell_type": "code",
   "execution_count": 382,
   "id": "615bf1b9",
   "metadata": {},
   "outputs": [],
   "source": [
    "# l=LabelEncoder()\n",
    "# y=l.fit_transform(y)\n",
    "# y"
   ]
  },
  {
   "cell_type": "code",
   "execution_count": 383,
   "id": "85c01621",
   "metadata": {},
   "outputs": [
    {
     "data": {
      "text/plain": [
       "0       4\n",
       "1       1\n",
       "2       1\n",
       "3       1\n",
       "4       1\n",
       "       ..\n",
       "1456    1\n",
       "1457    1\n",
       "1458    3\n",
       "1459    2\n",
       "1460    2\n",
       "Name: weather, Length: 1461, dtype: int64"
      ]
     },
     "execution_count": 383,
     "metadata": {},
     "output_type": "execute_result"
    }
   ],
   "source": [
    "replacement_dict = {\n",
    "    'rain': 1,\n",
    "    'sun': 2,\n",
    "    'fog': 3,\n",
    "    'drizzle': 4,\n",
    "    'snow': 5\n",
    "}\n",
    "\n",
    "# Replace values in the Series using the dictionary\n",
    "y = y.replace(replacement_dict)\n",
    "y"
   ]
  },
  {
   "cell_type": "code",
   "execution_count": 384,
   "id": "0816ee5d",
   "metadata": {
    "scrolled": true
   },
   "outputs": [
    {
     "data": {
      "text/plain": [
       "<AxesSubplot: xlabel='weather', ylabel='count'>"
      ]
     },
     "execution_count": 384,
     "metadata": {},
     "output_type": "execute_result"
    },
    {
     "data": {
      "image/png": "[encoded data removed]",
      "text/plain": [
       "<Figure size 640x480 with 1 Axes>"
      ]
     },
     "metadata": {},
     "output_type": "display_data"
    }
   ],
   "source": [
    "sea.countplot(x='weather',data=df)"
   ]
  },
  {
   "cell_type": "code",
   "execution_count": 385,
   "id": "c852f630",
   "metadata": {},
   "outputs": [],
   "source": [
    "x_train,x_test,y_train,y_test = train_test_split(x,y,test_size=0.20,random_state=111)"
   ]
  },
  {
   "cell_type": "code",
   "execution_count": 386,
   "id": "14826b1e",
   "metadata": {},
   "outputs": [],
   "source": [
    "from sklearn.tree import DecisionTreeClassifier\n",
    "dt=DecisionTreeClassifier()\n",
    "dt_model=dt.fit(x_train,y_train)"
   ]
  },
  {
   "cell_type": "code",
   "execution_count": 387,
   "id": "e2fec131",
   "metadata": {},
   "outputs": [
    {
     "data": {
      "text/plain": [
       "array([2, 3, 3, 1, 2, 1, 2, 2, 2, 1, 1, 1, 3, 2, 1, 2, 2, 2, 1, 1, 4, 2,\n",
       "       2, 1, 2, 3, 1, 1, 1, 1, 1, 1, 1, 1, 2, 1, 1, 1, 1, 2, 4, 1, 1, 1,\n",
       "       1, 1, 1, 2, 2, 1, 1, 2, 1, 2, 1, 2, 1, 2, 1, 1, 4, 4, 3, 2, 1, 1,\n",
       "       2, 2, 2, 1, 4, 1, 2, 1, 3, 1, 1, 2, 2, 1, 1, 2, 1, 2, 1, 1, 1, 1,\n",
       "       2, 2, 1, 2, 1, 1, 1, 1, 1, 1, 2, 2, 1, 2, 2, 3, 1, 3, 2, 1, 3, 1,\n",
       "       2, 2, 1, 2, 1, 2, 2, 1, 1, 2, 1, 1, 1, 2, 1, 2, 1, 2, 3, 2, 1, 1,\n",
       "       2, 2, 1, 1, 1, 2, 1, 2, 1, 1, 1, 1, 2, 3, 2, 1, 2, 1, 2, 2, 2, 1,\n",
       "       2, 1, 2, 1, 1, 1, 3, 2, 2, 3, 2, 2, 5, 3, 2, 2, 2, 1, 3, 2, 2, 1,\n",
       "       3, 1, 2, 1, 1, 2, 3, 2, 1, 3, 1, 1, 1, 1, 2, 2, 2, 1, 2, 2, 2, 1,\n",
       "       2, 2, 2, 2, 2, 2, 2, 1, 2, 1, 3, 5, 2, 3, 1, 2, 1, 4, 2, 1, 1, 1,\n",
       "       1, 1, 2, 1, 1, 3, 2, 2, 1, 2, 4, 1, 1, 2, 2, 4, 2, 2, 1, 2, 2, 2,\n",
       "       2, 1, 2, 1, 2, 1, 2, 1, 1, 1, 2, 2, 2, 2, 3, 2, 2, 2, 2, 2, 2, 2,\n",
       "       1, 2, 1, 1, 2, 1, 2, 1, 1, 2, 2, 2, 2, 3, 1, 1, 1, 2, 1, 3, 2, 1,\n",
       "       2, 2, 1, 2, 1, 1, 1], dtype=int64)"
      ]
     },
     "execution_count": 387,
     "metadata": {},
     "output_type": "execute_result"
    }
   ],
   "source": [
    "dt_result=dt_model.predict(x_test)\n",
    "dt_result"
   ]
  },
  {
   "cell_type": "code",
   "execution_count": 388,
   "id": "fb90b86b",
   "metadata": {
    "scrolled": true
   },
   "outputs": [
    {
     "data": {
      "text/plain": [
       "array([[122,   5,   1,   1,   2],\n",
       "       [  7, 101,  17,   3,   0],\n",
       "       [  1,  16,   6,   0,   0],\n",
       "       [  0,   4,   0,   4,   0],\n",
       "       [  3,   0,   0,   0,   0]], dtype=int64)"
      ]
     },
     "execution_count": 388,
     "metadata": {},
     "output_type": "execute_result"
    }
   ],
   "source": [
    "from sklearn.metrics import confusion_matrix,classification_report,accuracy_score\n",
    "cm=confusion_matrix(y_test,dt_result)\n",
    "cm"
   ]
  },
  {
   "cell_type": "code",
   "execution_count": 389,
   "id": "728a42a8",
   "metadata": {},
   "outputs": [
    {
     "data": {
      "text/plain": [
       "<AxesSubplot: >"
      ]
     },
     "execution_count": 389,
     "metadata": {},
     "output_type": "execute_result"
    },
    {
     "data": {
      "image/png": "[encoded data removed]",
      "text/plain": [
       "<Figure size 640x480 with 2 Axes>"
      ]
     },
     "metadata": {},
     "output_type": "display_data"
    }
   ],
   "source": [
    "sea.heatmap(cm, annot=True)"
   ]
  },
  {
   "cell_type": "code",
   "execution_count": 390,
   "id": "dbc48ccf",
   "metadata": {},
   "outputs": [
    {
     "data": {
      "text/plain": [
       "'              precision    recall  f1-score   support\\n\\n           1       0.92      0.93      0.92       131\\n           2       0.80      0.79      0.80       128\\n           3       0.25      0.26      0.26        23\\n           4       0.50      0.50      0.50         8\\n           5       0.00      0.00      0.00         3\\n\\n    accuracy                           0.80       293\\n   macro avg       0.49      0.50      0.49       293\\nweighted avg       0.79      0.80      0.79       293\\n'"
      ]
     },
     "execution_count": 390,
     "metadata": {},
     "output_type": "execute_result"
    }
   ],
   "source": [
    "from sklearn.metrics import classification_report, accuracy_score\n",
    "report = classification_report(y_test, dt_result)\n",
    "report"
   ]
  },
  {
   "cell_type": "code",
   "execution_count": 391,
   "id": "f8b4c36b",
   "metadata": {
    "scrolled": true
   },
   "outputs": [
    {
     "name": "stderr",
     "output_type": "stream",
     "text": [
      "C:\\Users\\SANJIDA\\AppData\\Local\\Programs\\Python\\Python310\\lib\\site-packages\\sklearn\\linear_model\\_logistic.py:444: ConvergenceWarning: lbfgs failed to converge (status=1):\n",
      "STOP: TOTAL NO. of ITERATIONS REACHED LIMIT.\n",
      "\n",
      "Increase the number of iterations (max_iter) or scale the data as shown in:\n",
      "    https://scikit-learn.org/stable/modules/preprocessing.html\n",
      "Please also refer to the documentation for alternative solver options:\n",
      "    https://scikit-learn.org/stable/modules/linear_model.html#logistic-regression\n",
      "  n_iter_i = _check_optimize_result(\n"
     ]
    }
   ],
   "source": [
    "# result=dt_model.predict([[0.0,12.8,5.0,4.7,2012,1,1]])\n",
    "# result\n",
    "from sklearn.linear_model import LogisticRegression\n",
    "logistic=LogisticRegression()\n",
    "log_model=logistic.fit(x_train,y_train)"
   ]
  },
  {
   "cell_type": "code",
   "execution_count": 392,
   "id": "37d0aa31",
   "metadata": {},
   "outputs": [],
   "source": [
    "lr_result=log_model.predict(x_test)"
   ]
  },
  {
   "cell_type": "code",
   "execution_count": 393,
   "id": "01b1037b",
   "metadata": {
    "scrolled": true
   },
   "outputs": [
    {
     "data": {
      "text/plain": [
       "array([[113,  18,   0,   0,   0],\n",
       "       [ 15, 109,   0,   0,   4],\n",
       "       [  3,  20,   0,   0,   0],\n",
       "       [  1,   7,   0,   0,   0],\n",
       "       [  3,   0,   0,   0,   0]], dtype=int64)"
      ]
     },
     "execution_count": 393,
     "metadata": {},
     "output_type": "execute_result"
    }
   ],
   "source": [
    "from sklearn.metrics import confusion_matrix,classification_report,accuracy_score\n",
    "cm=confusion_matrix(y_test,lr_result)\n",
    "cm"
   ]
  },
  {
   "cell_type": "code",
   "execution_count": 394,
   "id": "c98529bf",
   "metadata": {
    "scrolled": true
   },
   "outputs": [
    {
     "data": {
      "text/plain": [
       "<AxesSubplot: >"
      ]
     },
     "execution_count": 394,
     "metadata": {},
     "output_type": "execute_result"
    },
    {
     "data": {
      "image/png": "[encoded data removed]",
      "text/plain": [
       "<Figure size 640x480 with 2 Axes>"
      ]
     },
     "metadata": {},
     "output_type": "display_data"
    }
   ],
   "source": [
    "sea.heatmap(cm, annot=True)"
   ]
  },
  {
   "cell_type": "code",
   "execution_count": 395,
   "id": "a00bacb9",
   "metadata": {
    "scrolled": false
   },
   "outputs": [
    {
     "name": "stderr",
     "output_type": "stream",
     "text": [
      "C:\\Users\\SANJIDA\\AppData\\Local\\Programs\\Python\\Python310\\lib\\site-packages\\sklearn\\metrics\\_classification.py:1334: UndefinedMetricWarning: Precision and F-score are ill-defined and being set to 0.0 in labels with no predicted samples. Use `zero_division` parameter to control this behavior.\n",
      "  _warn_prf(average, modifier, msg_start, len(result))\n",
      "C:\\Users\\SANJIDA\\AppData\\Local\\Programs\\Python\\Python310\\lib\\site-packages\\sklearn\\metrics\\_classification.py:1334: UndefinedMetricWarning: Precision and F-score are ill-defined and being set to 0.0 in labels with no predicted samples. Use `zero_division` parameter to control this behavior.\n",
      "  _warn_prf(average, modifier, msg_start, len(result))\n",
      "C:\\Users\\SANJIDA\\AppData\\Local\\Programs\\Python\\Python310\\lib\\site-packages\\sklearn\\metrics\\_classification.py:1334: UndefinedMetricWarning: Precision and F-score are ill-defined and being set to 0.0 in labels with no predicted samples. Use `zero_division` parameter to control this behavior.\n",
      "  _warn_prf(average, modifier, msg_start, len(result))\n"
     ]
    }
   ],
   "source": [
    "from sklearn.metrics import classification_report, accuracy_score\n",
    "report = classification_report(y_test, lr_result)"
   ]
  },
  {
   "cell_type": "code",
   "execution_count": 396,
   "id": "275faede",
   "metadata": {
    "scrolled": false
   },
   "outputs": [
    {
     "name": "stdout",
     "output_type": "stream",
     "text": [
      "              precision    recall  f1-score   support\n",
      "\n",
      "           1       0.84      0.86      0.85       131\n",
      "           2       0.71      0.85      0.77       128\n",
      "           3       0.00      0.00      0.00        23\n",
      "           4       0.00      0.00      0.00         8\n",
      "           5       0.00      0.00      0.00         3\n",
      "\n",
      "    accuracy                           0.76       293\n",
      "   macro avg       0.31      0.34      0.32       293\n",
      "weighted avg       0.68      0.76      0.72       293\n",
      "\n"
     ]
    }
   ],
   "source": [
    "print(report)"
   ]
  },
  {
   "cell_type": "code",
   "execution_count": 397,
   "id": "25eafa80",
   "metadata": {},
   "outputs": [
    {
     "data": {
      "text/plain": [
       "0.757679180887372"
      ]
     },
     "execution_count": 397,
     "metadata": {},
     "output_type": "execute_result"
    }
   ],
   "source": [
    "acc = accuracy_score(y_test, lr_result)\n",
    "acc"
   ]
  },
  {
   "cell_type": "code",
   "execution_count": null,
   "id": "d8de31c1",
   "metadata": {},
   "outputs": [],
   "source": []
  },
  {
   "cell_type": "code",
   "execution_count": 398,
   "id": "c200af60",
   "metadata": {
    "scrolled": false
   },
   "outputs": [],
   "source": [
    "# result=dt_model.predict([[0.0,12.8,5.0,4.7,2012,1,1]])\n",
    "# result\n",
    "from sklearn.ensemble import RandomForestClassifier\n",
    "rf=RandomForestClassifier()\n",
    "rf_model=rf.fit(x_train,y_train)"
   ]
  },
  {
   "cell_type": "code",
   "execution_count": 399,
   "id": "67e04c7a",
   "metadata": {},
   "outputs": [],
   "source": [
    "rf_result=rf.predict(x_test)"
   ]
  },
  {
   "cell_type": "code",
   "execution_count": 400,
   "id": "954781cc",
   "metadata": {
    "scrolled": true
   },
   "outputs": [
    {
     "data": {
      "text/plain": [
       "array([[123,   7,   0,   0,   1],\n",
       "       [  5, 120,   1,   2,   0],\n",
       "       [  0,  18,   5,   0,   0],\n",
       "       [  0,   5,   0,   3,   0],\n",
       "       [  3,   0,   0,   0,   0]], dtype=int64)"
      ]
     },
     "execution_count": 400,
     "metadata": {},
     "output_type": "execute_result"
    }
   ],
   "source": [
    "from sklearn.metrics import confusion_matrix,classification_report,accuracy_score\n",
    "cm=confusion_matrix(y_test,rf_result)\n",
    "cm"
   ]
  },
  {
   "cell_type": "code",
   "execution_count": 401,
   "id": "6b07d7ca",
   "metadata": {
    "scrolled": true
   },
   "outputs": [
    {
     "data": {
      "text/plain": [
       "<AxesSubplot: >"
      ]
     },
     "execution_count": 401,
     "metadata": {},
     "output_type": "execute_result"
    },
    {
     "data": {
      "image/png": "[encoded data removed]",
      "text/plain": [
       "<Figure size 640x480 with 2 Axes>"
      ]
     },
     "metadata": {},
     "output_type": "display_data"
    }
   ],
   "source": [
    "sea.heatmap(cm, annot=True)"
   ]
  },
  {
   "cell_type": "code",
   "execution_count": 402,
   "id": "71e52540",
   "metadata": {
    "scrolled": false
   },
   "outputs": [],
   "source": [
    "from sklearn.metrics import classification_report, accuracy_score\n",
    "report = classification_report(y_test, rf_result)"
   ]
  },
  {
   "cell_type": "code",
   "execution_count": 403,
   "id": "935bd561",
   "metadata": {
    "scrolled": false
   },
   "outputs": [
    {
     "name": "stdout",
     "output_type": "stream",
     "text": [
      "              precision    recall  f1-score   support\n",
      "\n",
      "           1       0.94      0.94      0.94       131\n",
      "           2       0.80      0.94      0.86       128\n",
      "           3       0.83      0.22      0.34        23\n",
      "           4       0.60      0.38      0.46         8\n",
      "           5       0.00      0.00      0.00         3\n",
      "\n",
      "    accuracy                           0.86       293\n",
      "   macro avg       0.63      0.49      0.52       293\n",
      "weighted avg       0.85      0.86      0.84       293\n",
      "\n"
     ]
    }
   ],
   "source": [
    "print(report)"
   ]
  },
  {
   "cell_type": "code",
   "execution_count": 404,
   "id": "ddd7ad6e",
   "metadata": {},
   "outputs": [
    {
     "data": {
      "text/plain": [
       "0.856655290102389"
      ]
     },
     "execution_count": 404,
     "metadata": {},
     "output_type": "execute_result"
    }
   ],
   "source": [
    "acc = accuracy_score(y_test, rf_result)\n",
    "acc"
   ]
  },
  {
   "cell_type": "code",
   "execution_count": 405,
   "id": "5762374f",
   "metadata": {},
   "outputs": [],
   "source": [
    "## SMOTE (Ovesampling)\n",
    "\n",
    "from imblearn.over_sampling import SMOTE\n",
    "from collections import Counter\n"
   ]
  },
  {
   "cell_type": "code",
   "execution_count": 406,
   "id": "83bfc5c1",
   "metadata": {
    "scrolled": true
   },
   "outputs": [
    {
     "data": {
      "text/plain": [
       "2    512\n",
       "1    510\n",
       "3     78\n",
       "4     45\n",
       "5     23\n",
       "Name: weather, dtype: int64"
      ]
     },
     "execution_count": 406,
     "metadata": {},
     "output_type": "execute_result"
    }
   ],
   "source": [
    "y_train.value_counts()"
   ]
  },
  {
   "cell_type": "markdown",
   "id": "717b2aac",
   "metadata": {},
   "source": [
    "## Imbalance Handling (Oversampling)"
   ]
  },
  {
   "cell_type": "code",
   "execution_count": 407,
   "id": "b5936446",
   "metadata": {},
   "outputs": [
    {
     "name": "stdout",
     "output_type": "stream",
     "text": [
      "Resampled class distribution: Counter({2: 512, 1: 510, 3: 500, 5: 500, 4: 500})\n"
     ]
    }
   ],
   "source": [
    "# Apply SMOTE\n",
    "sampling_strategy = {3: 500, 4: 500, 5: 500} \n",
    "\n",
    "oversampler = SMOTE(sampling_strategy=sampling_strategy)\n",
    "X_resampled, y_resampled = oversampler.fit_resample(x_train, y_train)\n",
    "\n",
    "print(\"Resampled class distribution:\", Counter(y_resampled))"
   ]
  },
  {
   "cell_type": "code",
   "execution_count": 408,
   "id": "8ca6f9bc",
   "metadata": {
    "scrolled": true
   },
   "outputs": [
    {
     "data": {
      "text/plain": [
       "2    512\n",
       "1    510\n",
       "3    500\n",
       "5    500\n",
       "4    500\n",
       "Name: weather, dtype: int64"
      ]
     },
     "execution_count": 408,
     "metadata": {},
     "output_type": "execute_result"
    }
   ],
   "source": [
    "y_resampled.value_counts()"
   ]
  },
  {
   "cell_type": "code",
   "execution_count": 409,
   "id": "2fb97166",
   "metadata": {
    "scrolled": true
   },
   "outputs": [
    {
     "data": {
      "text/plain": [
       "<AxesSubplot: xlabel='weather', ylabel='count'>"
      ]
     },
     "execution_count": 409,
     "metadata": {},
     "output_type": "execute_result"
    },
    {
     "data": {
      "image/png": "[encoded data removed]",
      "text/plain": [
       "<Figure size 640x480 with 1 Axes>"
      ]
     },
     "metadata": {},
     "output_type": "display_data"
    }
   ],
   "source": [
    "sea.countplot(x=y_resampled)"
   ]
  },
  {
   "cell_type": "code",
   "execution_count": null,
   "id": "7d691189",
   "metadata": {},
   "outputs": [],
   "source": []
  },
  {
   "cell_type": "code",
   "execution_count": 410,
   "id": "fa68c664",
   "metadata": {},
   "outputs": [],
   "source": [
    "# decision tree imbalance handling \n",
    "from sklearn.tree import DecisionTreeClassifier \n",
    "dt=DecisionTreeClassifier(random_state = 42) \n",
    "dt_model=dt.fit(X_resampled,y_resampled) "
   ]
  },
  {
   "cell_type": "code",
   "execution_count": 411,
   "id": "840e99a0",
   "metadata": {},
   "outputs": [
    {
     "data": {
      "text/plain": [
       "array([[119,   5,   0,   2,   5],\n",
       "       [  3,  86,  25,  14,   0],\n",
       "       [  0,  13,   9,   1,   0],\n",
       "       [  1,   3,   1,   3,   0],\n",
       "       [  2,   0,   0,   0,   1]], dtype=int64)"
      ]
     },
     "execution_count": 411,
     "metadata": {},
     "output_type": "execute_result"
    }
   ],
   "source": [
    "y_pred = dt_model.predict(x_test)\n",
    "from sklearn.metrics import confusion_matrix,classification_report,accuracy_score\n",
    "cm=confusion_matrix(y_test,y_pred)\n",
    "cm"
   ]
  },
  {
   "cell_type": "code",
   "execution_count": 412,
   "id": "23c9c135",
   "metadata": {},
   "outputs": [
    {
     "data": {
      "text/plain": [
       "<AxesSubplot: >"
      ]
     },
     "execution_count": 412,
     "metadata": {},
     "output_type": "execute_result"
    },
    {
     "data": {
      "image/png": "[encoded data removed]",
      "text/plain": [
       "<Figure size 640x480 with 2 Axes>"
      ]
     },
     "metadata": {},
     "output_type": "display_data"
    }
   ],
   "source": [
    "sea.heatmap(cm, annot=True)"
   ]
  },
  {
   "cell_type": "code",
   "execution_count": 413,
   "id": "fdee04f0",
   "metadata": {},
   "outputs": [
    {
     "name": "stdout",
     "output_type": "stream",
     "text": [
      "              precision    recall  f1-score   support\n",
      "\n",
      "           1       0.95      0.91      0.93       131\n",
      "           2       0.80      0.67      0.73       128\n",
      "           3       0.26      0.39      0.31        23\n",
      "           4       0.15      0.38      0.21         8\n",
      "           5       0.17      0.33      0.22         3\n",
      "\n",
      "    accuracy                           0.74       293\n",
      "   macro avg       0.47      0.54      0.48       293\n",
      "weighted avg       0.80      0.74      0.77       293\n",
      "\n"
     ]
    }
   ],
   "source": [
    "# Performance Metrics \n",
    "\n",
    "from sklearn.metrics import classification_report, accuracy_score\n",
    "\n",
    "# Generate classification report\n",
    "report = classification_report(y_test, y_pred)\n",
    "print(report)"
   ]
  },
  {
   "cell_type": "code",
   "execution_count": 414,
   "id": "0eb07bca",
   "metadata": {},
   "outputs": [
    {
     "data": {
      "text/plain": [
       "0.7440273037542662"
      ]
     },
     "execution_count": 414,
     "metadata": {},
     "output_type": "execute_result"
    }
   ],
   "source": [
    "acc = accuracy_score(y_test, y_pred)\n",
    "acc"
   ]
  },
  {
   "cell_type": "code",
   "execution_count": null,
   "id": "36534ab2",
   "metadata": {},
   "outputs": [],
   "source": []
  },
  {
   "cell_type": "code",
   "execution_count": 415,
   "id": "a0c9d8cc",
   "metadata": {},
   "outputs": [],
   "source": [
    "### Random Forest "
   ]
  },
  {
   "cell_type": "code",
   "execution_count": 416,
   "id": "4b57bd02",
   "metadata": {},
   "outputs": [
    {
     "name": "stdout",
     "output_type": "stream",
     "text": [
      "              precision    recall  f1-score   support\n",
      "\n",
      "           1       0.96      0.92      0.94       131\n",
      "           2       0.82      0.82      0.82       128\n",
      "           3       0.53      0.43      0.48        23\n",
      "           4       0.24      0.50      0.32         8\n",
      "           5       0.25      0.33      0.29         3\n",
      "\n",
      "    accuracy                           0.82       293\n",
      "   macro avg       0.56      0.60      0.57       293\n",
      "weighted avg       0.84      0.82      0.83       293\n",
      "\n"
     ]
    },
    {
     "data": {
      "text/plain": [
       "0.8191126279863481"
      ]
     },
     "execution_count": 416,
     "metadata": {},
     "output_type": "execute_result"
    }
   ],
   "source": [
    "# With imbalance handling \n",
    "rf=RandomForestClassifier()\n",
    "rf_model=rf.fit(X_resampled,y_resampled)\n",
    "\n",
    "# Performance Metrics \n",
    "\n",
    "from sklearn.metrics import confusion_matrix,classification_report, accuracy_score\n",
    "\n",
    "y_pred = rf_model.predict(x_test)\n",
    "cm=confusion_matrix(y_test,y_pred)\n",
    "cm\n",
    "\n",
    "# Generate classification report\n",
    "report = classification_report(y_test, y_pred)\n",
    "print(report)\n",
    "\n",
    "acc = accuracy_score(y_test, y_pred)\n",
    "acc"
   ]
  },
  {
   "cell_type": "code",
   "execution_count": 417,
   "id": "b5a4b261",
   "metadata": {},
   "outputs": [
    {
     "data": {
      "text/plain": [
       "<AxesSubplot: >"
      ]
     },
     "execution_count": 417,
     "metadata": {},
     "output_type": "execute_result"
    },
    {
     "data": {
      "image/png": "[encoded data removed]",
      "text/plain": [
       "<Figure size 640x480 with 2 Axes>"
      ]
     },
     "metadata": {},
     "output_type": "display_data"
    }
   ],
   "source": [
    "sea.heatmap(cm, annot=True)"
   ]
  },
  {
   "cell_type": "code",
   "execution_count": 418,
   "id": "32caed57",
   "metadata": {},
   "outputs": [
    {
     "name": "stdout",
     "output_type": "stream",
     "text": [
      "              precision    recall  f1-score   support\n",
      "\n",
      "           1       0.94      0.94      0.94       131\n",
      "           2       0.80      0.95      0.87       128\n",
      "           3       1.00      0.22      0.36        23\n",
      "           4       0.67      0.25      0.36         8\n",
      "           5       0.00      0.00      0.00         3\n",
      "\n",
      "    accuracy                           0.86       293\n",
      "   macro avg       0.68      0.47      0.51       293\n",
      "weighted avg       0.86      0.86      0.84       293\n",
      "\n"
     ]
    },
    {
     "data": {
      "text/plain": [
       "0.8600682593856656"
      ]
     },
     "execution_count": 418,
     "metadata": {},
     "output_type": "execute_result"
    }
   ],
   "source": [
    "# Without imbalance handling \n",
    "\n",
    "from sklearn.neighbors import KNeighborsClassifier  \n",
    "kn= KNeighborsClassifier(n_neighbors=5, metric='minkowski', p=2 )  \n",
    "kn_model=rf.fit(x_train, y_train)\n",
    "\n",
    "# Performance Metrics \n",
    "\n",
    "from sklearn.metrics import classification_report, accuracy_score\n",
    "\n",
    "y_pred = rf_model.predict(x_test)\n",
    "\n",
    "# Generate classification report\n",
    "report = classification_report(y_test, y_pred)\n",
    "print(report)\n",
    "\n",
    "acc = accuracy_score(y_test, y_pred)\n",
    "acc"
   ]
  },
  {
   "cell_type": "code",
   "execution_count": 419,
   "id": "b8643554",
   "metadata": {},
   "outputs": [
    {
     "name": "stdout",
     "output_type": "stream",
     "text": [
      "              precision    recall  f1-score   support\n",
      "\n",
      "           1       0.97      0.91      0.94       131\n",
      "           2       0.82      0.84      0.83       128\n",
      "           3       0.50      0.39      0.44        23\n",
      "           4       0.24      0.50      0.32         8\n",
      "           5       0.20      0.33      0.25         3\n",
      "\n",
      "    accuracy                           0.82       293\n",
      "   macro avg       0.55      0.59      0.56       293\n",
      "weighted avg       0.84      0.82      0.83       293\n",
      "\n",
      "accuracy: 0.8191126279863481, Precision: 0.8398499539023775, recall: 0.8191126279863481\n"
     ]
    }
   ],
   "source": [
    "# With imbalance handling \n",
    "kn=KNeighborsClassifier(n_neighbors=5, metric='minkowski', p=2 )  \n",
    "kn_model=rf.fit(X_resampled,y_resampled)\n",
    "\n",
    "# Performance Metrics \n",
    "\n",
    "from sklearn.metrics import classification_report, accuracy_score, precision_score, recall_score\n",
    "\n",
    "y_pred = rf_model.predict(x_test)\n",
    "\n",
    "# Generate classification report\n",
    "report = classification_report(y_test, y_pred)\n",
    "print(report)\n",
    "\n",
    "acc = accuracy_score(y_test, y_pred)\n",
    "prec = precision_score(y_test, y_pred, average = 'weighted')\n",
    "recall = recall_score(y_test, y_pred, average = 'weighted')\n",
    "print(f\"accuracy: {acc}, Precision: {prec}, recall: {recall}\")"
   ]
  },
  {
   "cell_type": "code",
   "execution_count": null,
   "id": "b23356fa",
   "metadata": {},
   "outputs": [],
   "source": []
  },
  {
   "cell_type": "code",
   "execution_count": 420,
   "id": "5279a049",
   "metadata": {},
   "outputs": [],
   "source": [
    "### XGBoost"
   ]
  },
  {
   "cell_type": "code",
   "execution_count": 421,
   "id": "6e23307d",
   "metadata": {},
   "outputs": [
    {
     "name": "stdout",
     "output_type": "stream",
     "text": [
      "              precision    recall  f1-score   support\n",
      "\n",
      "           1       0.94      0.94      0.94       131\n",
      "           2       0.80      0.96      0.87       128\n",
      "           3       1.00      0.22      0.36        23\n",
      "           4       1.00      0.25      0.40         8\n",
      "           5       0.00      0.00      0.00         3\n",
      "\n",
      "    accuracy                           0.86       293\n",
      "   macro avg       0.75      0.47      0.51       293\n",
      "weighted avg       0.87      0.86      0.84       293\n",
      "\n",
      "accuracy: 0.863481228668942, Precision: 0.8745179734940827, recall: 0.863481228668942\n"
     ]
    }
   ],
   "source": [
    "# With imbalance handling \n",
    "import xgboost as xgb\n",
    "xgb=xgb.XGBClassifier()\n",
    "xgb_model=rf.fit(x_train,y_train)\n",
    "\n",
    "# Performance Metrics \n",
    "\n",
    "from sklearn.metrics import classification_report, accuracy_score, precision_score, recall_score\n",
    "\n",
    "y_pred = xgb_model.predict(x_test)\n",
    "\n",
    "# Generate classification report\n",
    "report = classification_report(y_test, y_pred)\n",
    "print(report)\n",
    "\n",
    "acc = accuracy_score(y_test, y_pred)\n",
    "prec = precision_score(y_test, y_pred, average = 'weighted')\n",
    "recall = recall_score(y_test, y_pred, average = 'weighted')\n",
    "print(f\"accuracy: {acc}, Precision: {prec}, recall: {recall}\")"
   ]
  },
  {
   "cell_type": "code",
   "execution_count": 422,
   "id": "57372fb9",
   "metadata": {},
   "outputs": [
    {
     "name": "stdout",
     "output_type": "stream",
     "text": [
      "              precision    recall  f1-score   support\n",
      "\n",
      "           1       0.98      0.92      0.95       131\n",
      "           2       0.82      0.84      0.83       128\n",
      "           3       0.47      0.39      0.43        23\n",
      "           4       0.27      0.50      0.35         8\n",
      "           5       0.25      0.33      0.29         3\n",
      "\n",
      "    accuracy                           0.83       293\n",
      "   macro avg       0.56      0.60      0.57       293\n",
      "weighted avg       0.84      0.83      0.83       293\n",
      "\n",
      "accuracy: 0.8293515358361775, Precision: 0.8442841692897554, recall: 0.8293515358361775\n"
     ]
    }
   ],
   "source": [
    "# With imbalance handling \n",
    "import xgboost as xgb\n",
    "xgb=xgb.XGBClassifier()\n",
    "xgb_model=rf.fit(X_resampled,y_resampled)\n",
    "\n",
    "# Performance Metrics \n",
    "\n",
    "from sklearn.metrics import classification_report, accuracy_score, precision_score, recall_score\n",
    "\n",
    "y_pred = xgb_model.predict(x_test)\n",
    "\n",
    "# Generate classification report\n",
    "report = classification_report(y_test, y_pred)\n",
    "print(report)\n",
    "\n",
    "acc = accuracy_score(y_test, y_pred)\n",
    "prec = precision_score(y_test, y_pred, average = 'weighted')\n",
    "recall = recall_score(y_test, y_pred, average = 'weighted')\n",
    "print(f\"accuracy: {acc}, Precision: {prec}, recall: {recall}\")"
   ]
  },
  {
   "cell_type": "code",
   "execution_count": 423,
   "id": "83774308",
   "metadata": {},
   "outputs": [
    {
     "name": "stdout",
     "output_type": "stream",
     "text": [
      "sun\n",
      "rain\n",
      "fog\n",
      "drizzle\n",
      "snow\n"
     ]
    }
   ],
   "source": [
    "data = {\n",
    "    \"precipitation\": [0.0,10.9,0.0,0.0,1.3],\n",
    "    \"temp_max\": [12.8,10.6,7.2,6.7,5],\n",
    "    \"temp_min\": [5.0,2.8,0.6,-2.2,-1.1],\n",
    "    \"wind\": [4.7,4.5,2.6,1.4,3.4],\n",
    "    \"year\" : [2012,2012,2015,2012,2012],\n",
    "    \"month\" : [1,1,12,1,2],\n",
    "    \"day\" :[1,2,29,27,26]\n",
    "}\n",
    "\n",
    "df = pd.DataFrame(data)\n",
    "# result=xgb_model.predict(df)\n",
    "result=kn_model.predict(df)\n",
    "# result=rf_model.predict(df)\n",
    "length = len(result)\n",
    "for i in range(length):\n",
    "    x=result[i]\n",
    "    if(x==1):\n",
    "        print(\"rain\")\n",
    "    elif(x==2):\n",
    "         print(\"sun\")\n",
    "    elif(x==3):\n",
    "         print(\"fog\")\n",
    "    elif(x==4):\n",
    "         print(\"drizzle\")\n",
    "    elif(x==5):\n",
    "         print(\"snow\")"
   ]
  },
  {
   "cell_type": "code",
   "execution_count": null,
   "id": "e48cbd19",
   "metadata": {},
   "outputs": [],
   "source": []
  },
  {
   "cell_type": "code",
   "execution_count": null,
   "id": "061a9e53",
   "metadata": {},
   "outputs": [],
   "source": []
  },
  {
   "cell_type": "code",
   "execution_count": null,
   "id": "49f5eaec",
   "metadata": {},
   "outputs": [],
   "source": []
  },
  {
   "cell_type": "code",
   "execution_count": null,
   "id": "aa48f193",
   "metadata": {},
   "outputs": [],
   "source": []
  },
  {
   "cell_type": "code",
   "execution_count": null,
   "id": "d03a28fe",
   "metadata": {},
   "outputs": [],
   "source": []
  },
  {
   "cell_type": "code",
   "execution_count": null,
   "id": "a94fcc98",
   "metadata": {},
   "outputs": [],
   "source": []
  }
 ],
 "metadata": {
  "kernelspec": {
   "display_name": "Python 3 (ipykernel)",
   "language": "python",
   "name": "python3"
  },
  "language_info": {
   "codemirror_mode": {
    "name": "ipython",
    "version": 3
   },
   "file_extension": ".py",
   "mimetype": "text/x-python",
   "name": "python",
   "nbconvert_exporter": "python",
   "pygments_lexer": "ipython3",
   "version": "3.10.8"
  }
 },
 "nbformat": 4,
 "nbformat_minor": 5
}
